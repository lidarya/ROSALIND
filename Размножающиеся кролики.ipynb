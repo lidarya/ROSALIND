{
 "cells": [
  {
   "cell_type": "markdown",
   "metadata": {},
   "source": [
    "https://rosalind.info/problems/fib/\n",
    "\n",
    "Дано: количество месяцев (n) и количество пар кроликов (k)\n",
    "Найти: количество пар кроликов через n месяцев, используя последовательность Фибоначчи"
   ]
  },
  {
   "cell_type": "code",
   "execution_count": 11,
   "metadata": {},
   "outputs": [
    {
     "name": "stdout",
     "output_type": "stream",
     "text": [
      "19\n"
     ]
    }
   ],
   "source": [
    "# Вводим количество месяцев и пар через пробел\n",
    "n, k = map(int, input().split())\n",
    "\n",
    "# Пишем функцию, которая считает получившееся количество кроликов, запуская себя до тех пор, \n",
    "# пока не дойдёт до первых 2-х членов\n",
    "def rabbit_pairs(n, k):\n",
    "    if n == 1 or n == 2:\n",
    "        return 1\n",
    "    else:\n",
    "        return rabbit_pairs(n-1, k) + k * rabbit_pairs(n-2, k)\n",
    "\n",
    "print(rabbit_pairs(n, k))\n"
   ]
  }
 ],
 "metadata": {
  "kernelspec": {
   "display_name": "Python 3",
   "language": "python",
   "name": "python3"
  },
  "language_info": {
   "codemirror_mode": {
    "name": "ipython",
    "version": 3
   },
   "file_extension": ".py",
   "mimetype": "text/x-python",
   "name": "python",
   "nbconvert_exporter": "python",
   "pygments_lexer": "ipython3",
   "version": "3.11.1"
  }
 },
 "nbformat": 4,
 "nbformat_minor": 2
}
